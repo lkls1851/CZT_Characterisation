{
 "cells": [
  {
   "cell_type": "code",
   "execution_count": 1,
   "id": "2a5ef129-07b9-4634-862e-aaf0508f4822",
   "metadata": {},
   "outputs": [],
   "source": [
    "from pymodbus.client import ModbusTcpClient"
   ]
  },
  {
   "cell_type": "code",
   "execution_count": 2,
   "id": "8b50188b-eca4-4089-97d6-66396cf1bf2e",
   "metadata": {},
   "outputs": [],
   "source": [
    "ip = '192.168.0.113'\n",
    "port = 502\n",
    "\n",
    "register_address_map = {\"TEMP_PV\": 0,\n",
    "                        \"RH_PV\": 2,\n",
    "                        \"RH_SV_Read_Only\": 3,\n",
    "                        \"Program_Status\": 4,\n",
    "                        \"TEMP_SV\": 7,\n",
    "                        \"RH_SV_Read_Write\": 16\n",
    "                        } \n",
    "coil_address_map = {\"Profile_Run\": 0,\n",
    "                    \"Lamp_Command\": 1,\n",
    "                    \"Manual_Run\" : 2,\n",
    "                    \"Batch_Start_Flag\": 3\n",
    "                   }"
   ]
  },
  {
   "cell_type": "code",
   "execution_count": 3,
   "id": "ce66540a-1e18-4a37-a3e0-91619c829118",
   "metadata": {},
   "outputs": [
    {
     "name": "stderr",
     "output_type": "stream",
     "text": [
      "Connection to (192.168.0.113, 502) failed: timed out\n"
     ]
    }
   ],
   "source": [
    "# Initialize modbus connection\n",
    "client = ModbusTcpClient(host=ip, port=port)\n",
    "connection = client.connect()"
   ]
  },
  {
   "cell_type": "code",
   "execution_count": 32,
   "id": "90a03524-0222-463c-a3e1-103bd585e3b9",
   "metadata": {},
   "outputs": [
    {
     "name": "stdout",
     "output_type": "stream",
     "text": [
      "\n",
      "Reading coils:\n",
      "\n",
      "ReadCoilsResponse(8)\n",
      "Profile_Run: [False, False, False, False, False, False, False, False]\n",
      "\n",
      "ReadCoilsResponse(8)\n",
      "Lamp_Command: [False, False, False, False, False, False, False, False]\n",
      "\n",
      "ReadCoilsResponse(8)\n",
      "Manual_Run: [False, False, False, False, False, False, False, False]\n",
      "\n",
      "ReadCoilsResponse(8)\n",
      "Batch_Start_Flag: [False, False, False, False, False, False, False, False]\n"
     ]
    }
   ],
   "source": [
    "print(\"\\nReading coils:\")\n",
    "for key, value in coil_address_map.items():\n",
    "    rd = client.read_coils(value)\n",
    "    print()\n",
    "    print(rd)\n",
    "    print(f\"{key: <10}: {rd.bits}\")"
   ]
  },
  {
   "cell_type": "code",
   "execution_count": 12,
   "id": "4708d16a-092e-411e-83ee-3d1b9b28740f",
   "metadata": {},
   "outputs": [
    {
     "data": {
      "text/plain": [
       "<pymodbus.bit_write_message.WriteSingleCoilResponse at 0x7b1cce292590>"
      ]
     },
     "execution_count": 12,
     "metadata": {},
     "output_type": "execute_result"
    }
   ],
   "source": [
    "client.write_coil(1, False)"
   ]
  },
  {
   "cell_type": "code",
   "execution_count": 19,
   "id": "89b115ca-78a4-4532-90ff-54750dd64caa",
   "metadata": {},
   "outputs": [
    {
     "name": "stdout",
     "output_type": "stream",
     "text": [
      "\n",
      "ReadHoldingRegistersResponse (2)\n",
      "[0, 17008]\n"
     ]
    }
   ],
   "source": [
    "rd = client.read_holding_registers(16, 2)\n",
    "print()\n",
    "assert(rd.function_code < 0x80)     # test that we are not an error\n",
    "print(rd)\n",
    "print(rd.registers)"
   ]
  },
  {
   "cell_type": "code",
   "execution_count": 20,
   "id": "b9954f86-d2a4-4d84-a3fc-1c3817c8f342",
   "metadata": {},
   "outputs": [
    {
     "name": "stdout",
     "output_type": "stream",
     "text": [
      "Result: 60.0\n"
     ]
    }
   ],
   "source": [
    "from pymodbus.constants import Endian\n",
    "from pymodbus.payload import BinaryPayloadDecoder\n",
    "\n",
    "registers = rd.registers\n",
    "# decoder = BinaryPayloadDecoder.fromRegisters(registers, wordorder=Endian.LITTLE)\n",
    "decoder = BinaryPayloadDecoder.fromRegisters(registers, Endian.BIG, wordorder=Endian.LITTLE)\n",
    "print (\"Result: \" + str(decoder.decode_32bit_float()))"
   ]
  },
  {
   "cell_type": "markdown",
   "id": "bf4bc3ba-286e-4294-93a4-a8364970e53c",
   "metadata": {},
   "source": [
    "90 17076,\n",
    "50 16968, \n",
    "10 16672"
   ]
  },
  {
   "cell_type": "code",
   "execution_count": 125,
   "id": "1bd1197f-31df-4344-b04d-e8403533dfbc",
   "metadata": {},
   "outputs": [
    {
     "data": {
      "text/plain": [
       "25.995269703212024"
      ]
     },
     "execution_count": 125,
     "metadata": {},
     "output_type": "execute_result"
    }
   ],
   "source": [
    "rd.registers[1]*100/65535"
   ]
  },
  {
   "cell_type": "code",
   "execution_count": 7,
   "id": "6042304e-23ad-4463-80d3-c92bda0367df",
   "metadata": {},
   "outputs": [
    {
     "name": "stdout",
     "output_type": "stream",
     "text": [
      "ReadHoldingRegistersResponse (1)\n"
     ]
    }
   ],
   "source": [
    "rq = client.write_register(16, 70)       # RH_SV_Read_Write = 70 %\n",
    "rd = client.read_holding_registers(value)\n",
    "print(rd)"
   ]
  },
  {
   "cell_type": "code",
   "execution_count": 8,
   "id": "b0e4fd8b-ac07-4ce4-a296-430c9b5f45c5",
   "metadata": {},
   "outputs": [
    {
     "name": "stdout",
     "output_type": "stream",
     "text": [
      "\n",
      "Reading holding registers:\n",
      "\n",
      "ReadHoldingRegistersResponse (1)\n",
      "TEMP_PV   : [249]\n",
      "\n",
      "ReadHoldingRegistersResponse (1)\n",
      "RH_PV     : [89]\n",
      "\n",
      "ReadHoldingRegistersResponse (1)\n",
      "RH_SV_Read_Only: [60]\n",
      "\n",
      "ReadHoldingRegistersResponse (1)\n",
      "Program_Status: [0]\n",
      "\n",
      "ReadHoldingRegistersResponse (1)\n",
      "TEMP_SV   : [230]\n",
      "\n",
      "Exception Response(131, 3, IllegalAddress)\n",
      "RH_SV_Read_Write: []\n"
     ]
    }
   ],
   "source": [
    "print(\"\\nReading holding registers:\")\n",
    "for key, value in register_address_map.items():\n",
    "    rd = client.read_holding_registers(value)\n",
    "    print()\n",
    "    print(rd)\n",
    "    print(f\"{key: <10}: {rd.registers}\")"
   ]
  },
  {
   "cell_type": "code",
   "execution_count": 9,
   "id": "c275c6af-92d1-4c9b-ae1c-afb5b6f378d2",
   "metadata": {},
   "outputs": [
    {
     "name": "stdout",
     "output_type": "stream",
     "text": [
      "\n",
      "Writing to set value holding registers:\n",
      "\n",
      "ReadHoldingRegistersResponse (1)\n",
      "TEMP_SV   : [230]\n",
      "Exception Response(131, 3, IllegalAddress)\n",
      "RH_SV_Read_Write: []\n"
     ]
    }
   ],
   "source": [
    "print(\"\\nWriting to set value holding registers:\\n\")\n",
    "\n",
    "key = \"TEMP_SV\"\n",
    "value = register_address_map[key]\n",
    "rq = client.write_register(value, 230)       # TEMP_SV = 20.0 deg C\n",
    "rd = client.read_holding_registers(value)\n",
    "print(rd)\n",
    "print(f\"{key: <10}: {rd.registers}\")\n",
    "\n",
    "key = \"RH_SV_Read_Write\"\n",
    "value = register_address_map[key]\n",
    "rq = client.write_register(value, 70)       # RH_SV_Read_Write = 70 %\n",
    "rd = client.read_holding_registers(value)\n",
    "print(rd)\n",
    "print(f\"{key: <10}: {rd.registers}\")"
   ]
  },
  {
   "cell_type": "code",
   "execution_count": 9,
   "id": "b4eff72d-bb62-42ce-a7bc-b8e92d62dd8e",
   "metadata": {},
   "outputs": [],
   "source": [
    "# Disconnect device\n",
    "client.close()"
   ]
  },
  {
   "cell_type": "code",
   "execution_count": null,
   "id": "37bc01f5-a7d4-4b0a-8233-bd31b0d1b64a",
   "metadata": {},
   "outputs": [],
   "source": []
  },
  {
   "cell_type": "code",
   "execution_count": null,
   "id": "197f53f9-d577-4bd5-9376-f352ce6b4c65",
   "metadata": {},
   "outputs": [],
   "source": []
  },
  {
   "cell_type": "code",
   "execution_count": 10,
   "id": "0b99ff8a-3a45-4d21-97d3-c28255402b95",
   "metadata": {},
   "outputs": [
    {
     "name": "stdout",
     "output_type": "stream",
     "text": [
      "ReadHoldingRegistersResponse (1)\n",
      "TEMP_SV   : [230]\n"
     ]
    }
   ],
   "source": [
    "key = \"TEMP_SV\"\n",
    "value = register_address_map[key]\n",
    "rq = client.write_register(value, 230)       # TEMP_SV = 20.0 deg C\n",
    "rd = client.read_holding_registers(value)\n",
    "print(rd)\n",
    "print(f\"{key: <10}: {rd.registers}\")"
   ]
  },
  {
   "cell_type": "code",
   "execution_count": 7,
   "id": "65f320ba-b6a8-49bc-b856-52a47af5a2d5",
   "metadata": {},
   "outputs": [
    {
     "data": {
      "text/plain": [
       "[0]"
      ]
     },
     "execution_count": 7,
     "metadata": {},
     "output_type": "execute_result"
    }
   ],
   "source": [
    "key = \"Program_Status\"\n",
    "value = register_address_map[key]\n",
    "rd=client.read_holding_registers(value)\n",
    "rd.registers"
   ]
  },
  {
   "cell_type": "code",
   "execution_count": 14,
   "id": "b1beb113-21e1-4260-b76c-2f79caa87d3a",
   "metadata": {},
   "outputs": [
    {
     "data": {
      "text/plain": [
       "<pymodbus.bit_write_message.WriteSingleCoilResponse at 0x7b1cce2924a0>"
      ]
     },
     "execution_count": 14,
     "metadata": {},
     "output_type": "execute_result"
    }
   ],
   "source": [
    "client.write_coil(3, True)"
   ]
  },
  {
   "cell_type": "code",
   "execution_count": 16,
   "id": "c28ee3ac-d118-4b25-ac0a-8d3fe295cb64",
   "metadata": {},
   "outputs": [
    {
     "data": {
      "text/plain": [
       "<pymodbus.bit_write_message.WriteSingleCoilResponse at 0x7b1cce2eada0>"
      ]
     },
     "execution_count": 16,
     "metadata": {},
     "output_type": "execute_result"
    }
   ],
   "source": [
    "client.write_coil(0, True)"
   ]
  },
  {
   "cell_type": "code",
   "execution_count": 10,
   "id": "6033aa8a-67aa-454d-879c-e1f7f9831453",
   "metadata": {},
   "outputs": [
    {
     "name": "stderr",
     "output_type": "stream",
     "text": [
      "Connection to (192.168.0.113, 502) failed: timed out\n"
     ]
    },
    {
     "ename": "ConnectionException",
     "evalue": "Modbus Error: [Connection] Failed to connect[ModbusTcpClient 192.168.0.113:502]",
     "output_type": "error",
     "traceback": [
      "\u001b[0;31m---------------------------------------------------------------------------\u001b[0m",
      "\u001b[0;31mConnectionException\u001b[0m                       Traceback (most recent call last)",
      "Cell \u001b[0;32mIn[10], line 3\u001b[0m\n\u001b[1;32m      1\u001b[0m key \u001b[38;5;241m=\u001b[39m \u001b[38;5;124m\"\u001b[39m\u001b[38;5;124mTEMP_PV\u001b[39m\u001b[38;5;124m\"\u001b[39m\n\u001b[1;32m      2\u001b[0m value \u001b[38;5;241m=\u001b[39m register_address_map[key]\n\u001b[0;32m----> 3\u001b[0m rd \u001b[38;5;241m=\u001b[39m \u001b[43mclient\u001b[49m\u001b[38;5;241;43m.\u001b[39;49m\u001b[43mread_holding_registers\u001b[49m\u001b[43m(\u001b[49m\u001b[43mvalue\u001b[49m\u001b[43m)\u001b[49m\n\u001b[1;32m      4\u001b[0m \u001b[38;5;28mprint\u001b[39m(rd\u001b[38;5;241m.\u001b[39mregisters)\n",
      "File \u001b[0;32m~/.local/lib/python3.10/site-packages/pymodbus/client/mixin.py:107\u001b[0m, in \u001b[0;36mModbusClientMixin.read_holding_registers\u001b[0;34m(self, address, count, slave, **kwargs)\u001b[0m\n\u001b[1;32m     96\u001b[0m \u001b[38;5;28;01mdef\u001b[39;00m \u001b[38;5;21mread_holding_registers\u001b[39m(\n\u001b[1;32m     97\u001b[0m     \u001b[38;5;28mself\u001b[39m, address: \u001b[38;5;28mint\u001b[39m, count: \u001b[38;5;28mint\u001b[39m \u001b[38;5;241m=\u001b[39m \u001b[38;5;241m1\u001b[39m, slave: \u001b[38;5;28mint\u001b[39m \u001b[38;5;241m=\u001b[39m \u001b[38;5;241m0\u001b[39m, \u001b[38;5;241m*\u001b[39m\u001b[38;5;241m*\u001b[39mkwargs: Any\n\u001b[1;32m     98\u001b[0m ) \u001b[38;5;241m-\u001b[39m\u001b[38;5;241m>\u001b[39m T:\n\u001b[1;32m     99\u001b[0m \u001b[38;5;250m    \u001b[39m\u001b[38;5;124;03m\"\"\"Read holding registers (code 0x03).\u001b[39;00m\n\u001b[1;32m    100\u001b[0m \n\u001b[1;32m    101\u001b[0m \u001b[38;5;124;03m    :param address: Start address to read from\u001b[39;00m\n\u001b[0;32m   (...)\u001b[0m\n\u001b[1;32m    105\u001b[0m \u001b[38;5;124;03m    :raises ModbusException:\u001b[39;00m\n\u001b[1;32m    106\u001b[0m \u001b[38;5;124;03m    \"\"\"\u001b[39;00m\n\u001b[0;32m--> 107\u001b[0m     \u001b[38;5;28;01mreturn\u001b[39;00m \u001b[38;5;28;43mself\u001b[39;49m\u001b[38;5;241;43m.\u001b[39;49m\u001b[43mexecute\u001b[49m\u001b[43m(\u001b[49m\n\u001b[1;32m    108\u001b[0m \u001b[43m        \u001b[49m\u001b[43mpdu_reg_read\u001b[49m\u001b[38;5;241;43m.\u001b[39;49m\u001b[43mReadHoldingRegistersRequest\u001b[49m\u001b[43m(\u001b[49m\u001b[43maddress\u001b[49m\u001b[43m,\u001b[49m\u001b[43m \u001b[49m\u001b[43mcount\u001b[49m\u001b[43m,\u001b[49m\u001b[43m \u001b[49m\u001b[43mslave\u001b[49m\u001b[43m,\u001b[49m\u001b[43m \u001b[49m\u001b[38;5;241;43m*\u001b[39;49m\u001b[38;5;241;43m*\u001b[39;49m\u001b[43mkwargs\u001b[49m\u001b[43m)\u001b[49m\n\u001b[1;32m    109\u001b[0m \u001b[43m    \u001b[49m\u001b[43m)\u001b[49m\n",
      "File \u001b[0;32m~/.local/lib/python3.10/site-packages/pymodbus/client/base.py:391\u001b[0m, in \u001b[0;36mModbusBaseSyncClient.execute\u001b[0;34m(self, request)\u001b[0m\n\u001b[1;32m    384\u001b[0m \u001b[38;5;250m\u001b[39m\u001b[38;5;124;03m\"\"\"Execute request and get response (call **sync/async**).\u001b[39;00m\n\u001b[1;32m    385\u001b[0m \n\u001b[1;32m    386\u001b[0m \u001b[38;5;124;03m:param request: The request to process\u001b[39;00m\n\u001b[1;32m    387\u001b[0m \u001b[38;5;124;03m:returns: The result of the request execution\u001b[39;00m\n\u001b[1;32m    388\u001b[0m \u001b[38;5;124;03m:raises ConnectionException: Check exception text.\u001b[39;00m\n\u001b[1;32m    389\u001b[0m \u001b[38;5;124;03m\"\"\"\u001b[39;00m\n\u001b[1;32m    390\u001b[0m \u001b[38;5;28;01mif\u001b[39;00m \u001b[38;5;129;01mnot\u001b[39;00m \u001b[38;5;28mself\u001b[39m\u001b[38;5;241m.\u001b[39mconnect():\n\u001b[0;32m--> 391\u001b[0m     \u001b[38;5;28;01mraise\u001b[39;00m ConnectionException(\u001b[38;5;124mf\u001b[39m\u001b[38;5;124m\"\u001b[39m\u001b[38;5;124mFailed to connect[\u001b[39m\u001b[38;5;132;01m{\u001b[39;00m\u001b[38;5;28mself\u001b[39m\u001b[38;5;132;01m!s}\u001b[39;00m\u001b[38;5;124m]\u001b[39m\u001b[38;5;124m\"\u001b[39m)\n\u001b[1;32m    392\u001b[0m \u001b[38;5;28;01mreturn\u001b[39;00m \u001b[38;5;28mself\u001b[39m\u001b[38;5;241m.\u001b[39mtransaction\u001b[38;5;241m.\u001b[39mexecute(request)\n",
      "\u001b[0;31mConnectionException\u001b[0m: Modbus Error: [Connection] Failed to connect[ModbusTcpClient 192.168.0.113:502]"
     ]
    }
   ],
   "source": [
    "key = \"TEMP_PV\"\n",
    "value = register_address_map[key]\n",
    "rd = client.read_holding_registers(value)\n",
    "print(rd.registers)"
   ]
  },
  {
   "cell_type": "code",
   "execution_count": null,
   "id": "b100fb6c-cdd7-43c7-8ef9-fefc91e0b313",
   "metadata": {},
   "outputs": [],
   "source": []
  }
 ],
 "metadata": {
  "kernelspec": {
   "display_name": "Python 3 (ipykernel)",
   "language": "python",
   "name": "python3"
  },
  "language_info": {
   "codemirror_mode": {
    "name": "ipython",
    "version": 3
   },
   "file_extension": ".py",
   "mimetype": "text/x-python",
   "name": "python",
   "nbconvert_exporter": "python",
   "pygments_lexer": "ipython3",
   "version": "3.10.12"
  }
 },
 "nbformat": 4,
 "nbformat_minor": 5
}
