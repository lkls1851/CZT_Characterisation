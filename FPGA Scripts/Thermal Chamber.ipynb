{
 "cells": [
  {
   "cell_type": "code",
   "execution_count": 4,
   "id": "1267b7c2-4e29-431b-ad34-a0c6dd09e2b4",
   "metadata": {},
   "outputs": [],
   "source": [
    "from pymodbus.client import ModbusTcpClient\n",
    "import socket\n",
    "from pymodbus.constants import Endian\n",
    "from pymodbus.payload import BinaryPayloadDecoder"
   ]
  },
  {
   "cell_type": "code",
   "execution_count": 5,
   "id": "1e32d83f-dcad-411f-a635-a9aede2b0bc6",
   "metadata": {},
   "outputs": [],
   "source": [
    "ip = '192.168.0.113'\n",
    "port = 502\n",
    "\n",
    "register_address_map = {\"TEMP_PV\": 0,\n",
    "                        \"RH_PV\": 2,\n",
    "                        \"RH_SV_Read_Only\": 3,\n",
    "                        \"Program_Status\": 4,\n",
    "                        \"TEMP_SV\": 7,\n",
    "                        \"RH_SV_Read_Write\": 16\n",
    "                        } \n",
    "coil_address_map = {\"Profile_Run\": 0,\n",
    "                    \"Lamp_Command\": 1,\n",
    "                    \"Manual_Run\" : 2,\n",
    "                    \"Batch_Start_Flag\": 3\n",
    "                   }"
   ]
  },
  {
   "cell_type": "code",
   "execution_count": 7,
   "id": "8a546b9f-ac13-4224-8fc2-fba0b6223f38",
   "metadata": {},
   "outputs": [
    {
     "name": "stderr",
     "output_type": "stream",
     "text": [
      "Connection to (192.168.0.113, 502) failed: timed out\n"
     ]
    }
   ],
   "source": [
    "client = ModbusTcpClient(host=ip, port=port)\n",
    "connection = client.connect()"
   ]
  },
  {
   "cell_type": "code",
   "execution_count": 4,
   "id": "601d35cd-d537-4fbf-ab69-3365d3cb8ab0",
   "metadata": {},
   "outputs": [
    {
     "name": "stdout",
     "output_type": "stream",
     "text": [
      "\n",
      "ReadCoilsResponse(8)\n",
      "Profile_Run: [False, False, False, False, False, False, False, False]\n",
      "\n",
      "ReadCoilsResponse(8)\n",
      "Lamp_Command: [False, False, False, False, False, False, False, False]\n",
      "\n",
      "ReadCoilsResponse(8)\n",
      "Manual_Run: [False, False, False, False, False, False, False, False]\n",
      "\n",
      "ReadCoilsResponse(8)\n",
      "Batch_Start_Flag: [True, True, True, True, True, True, True, True]\n"
     ]
    }
   ],
   "source": [
    "while True:\n",
    "    try:\n",
    "        for key, value in coil_address_map.items():\n",
    "            rd = client.read_coils(value)\n",
    "            print()\n",
    "            print(rd)\n",
    "            print(f\"{key: <10}: {rd.bits}\")\n",
    "        break\n",
    "    except Exception as e:\n",
    "        pass"
   ]
  },
  {
   "cell_type": "code",
   "execution_count": 11,
   "id": "dc7202e0-5699-4476-be03-929e1f0d15b9",
   "metadata": {},
   "outputs": [],
   "source": [
    "try:\n",
    "    client.write_coil(1, True)\n",
    "except:\n",
    "    None"
   ]
  },
  {
   "cell_type": "code",
   "execution_count": 6,
   "id": "b6596d67-803b-4dbf-8f3b-4e9f940f27dd",
   "metadata": {},
   "outputs": [
    {
     "name": "stdout",
     "output_type": "stream",
     "text": [
      "\n",
      "ReadHoldingRegistersResponse (2)\n",
      "[0, 17008]\n"
     ]
    }
   ],
   "source": [
    "while True:\n",
    "    try:\n",
    "        rd = client.read_holding_registers(16, 2)\n",
    "        print()\n",
    "        assert(rd.function_code < 0x80)     # test that we are not an error\n",
    "        print(rd)\n",
    "        print(rd.registers)\n",
    "        break\n",
    "    except:\n",
    "        None"
   ]
  },
  {
   "cell_type": "code",
   "execution_count": 7,
   "id": "6bfe24cc-9f96-4a3e-93db-17e913d3ce5f",
   "metadata": {},
   "outputs": [
    {
     "name": "stdout",
     "output_type": "stream",
     "text": [
      "Result: 60.0\n"
     ]
    }
   ],
   "source": [
    "while True:\n",
    "    try:\n",
    "        registers = rd.registers\n",
    "# decoder = BinaryPayloadDecoder.fromRegisters(registers, wordorder=Endian.LITTLE)\n",
    "        decoder = BinaryPayloadDecoder.fromRegisters(registers, Endian.BIG, wordorder=Endian.LITTLE)\n",
    "        print (\"Result: \" + str(decoder.decode_32bit_float()))\n",
    "        break\n",
    "    except:\n",
    "        pass"
   ]
  },
  {
   "cell_type": "code",
   "execution_count": 8,
   "id": "b6eaa1aa-ae3e-4de2-87dc-23da6b346b80",
   "metadata": {},
   "outputs": [
    {
     "data": {
      "text/plain": [
       "25.952544441901274"
      ]
     },
     "execution_count": 8,
     "metadata": {},
     "output_type": "execute_result"
    }
   ],
   "source": [
    "rd.registers[1]*100/65535"
   ]
  },
  {
   "cell_type": "code",
   "execution_count": 9,
   "id": "6caacc8d-9ee2-4cd4-8987-8a8e2446f008",
   "metadata": {},
   "outputs": [
    {
     "name": "stdout",
     "output_type": "stream",
     "text": [
      "ReadHoldingRegistersResponse (1)\n"
     ]
    }
   ],
   "source": [
    "while True:\n",
    "    try:\n",
    "        rq = client.write_register(16, 50)       # RH_SV_Read_Write = 70 %\n",
    "        rd = client.read_holding_registers(value)\n",
    "        print(rd)\n",
    "        break\n",
    "    except:\n",
    "        pass"
   ]
  },
  {
   "cell_type": "code",
   "execution_count": 10,
   "id": "b9536d83-4949-417b-8e56-ef641aa3ccee",
   "metadata": {},
   "outputs": [
    {
     "name": "stdout",
     "output_type": "stream",
     "text": [
      "\n",
      "Reading holding registers:\n",
      "\n",
      "ReadHoldingRegistersResponse (1)\n",
      "TEMP_PV   : [247]\n",
      "\n",
      "ReadHoldingRegistersResponse (1)\n",
      "RH_PV     : [95]\n",
      "\n",
      "ReadHoldingRegistersResponse (1)\n",
      "RH_SV_Read_Only: [60]\n",
      "\n",
      "ReadHoldingRegistersResponse (1)\n",
      "Program_Status: [0]\n",
      "\n",
      "ReadHoldingRegistersResponse (1)\n",
      "TEMP_SV   : [250]\n",
      "\n",
      "Exception Response(131, 3, IllegalAddress)\n",
      "RH_SV_Read_Write: []\n"
     ]
    }
   ],
   "source": [
    "print(\"\\nReading holding registers:\")\n",
    "while True:\n",
    "    try:\n",
    "        for key, value in register_address_map.items():\n",
    "            rd = client.read_holding_registers(value)\n",
    "            print()\n",
    "            print(rd)\n",
    "            print(f\"{key: <10}: {rd.registers}\")\n",
    "        break\n",
    "    except:\n",
    "        None"
   ]
  },
  {
   "cell_type": "code",
   "execution_count": null,
   "id": "1c8c1ad2-13a6-4431-872f-89a23da4fe9b",
   "metadata": {},
   "outputs": [
    {
     "name": "stdout",
     "output_type": "stream",
     "text": [
      "\n",
      "Writing to set value holding registers:\n",
      "\n"
     ]
    },
    {
     "name": "stdin",
     "output_type": "stream",
     "text": [
      "Write TEMP_SV in C 25\n",
      "Write RH_SV 50\n"
     ]
    }
   ],
   "source": [
    "print(\"\\nWriting to set value holding registers:\\n\")\n",
    "\n",
    "tsv=int(input(\"Write TEMP_SV in C\"))\n",
    "rhsv=int(input(\"Write RH_SV\"))\n",
    "\n",
    "while True:\n",
    "    try:\n",
    "        key = \"TEMP_SV\"\n",
    "        value = register_address_map[key]\n",
    "        rq = client.write_register(value, tsv*10)       # TEMP_SV = 20.0 deg C\n",
    "        rd = client.read_holding_registers(value)\n",
    "        print(rd)\n",
    "        print(f\"{key: <10}: {rd.registers}\")\n",
    "        rhsv_binary = format(rhsv, '032b')\n",
    "\n",
    "        rhsv_high_binary = rhsv_binary[:16]\n",
    "        rhsv_low_binary = rhsv_binary[16:]\n",
    "        rhsv_high = int(rhsv_high_binary, 2)\n",
    "        rhsv_low = int(rhsv_low_binary, 2)\n",
    "        key = \"RH_SV_Read_Write\"\n",
    "        value_l=register_address_map[key]\n",
    "        value_h=value_l+1\n",
    "        \n",
    "        rq_l=client.write_register(value_l, rhsv_low)\n",
    "        rd_l=client.read_holding_registers(value_l)\n",
    "        rq_h=client.write_register(value_h, rhsv_high)\n",
    "        rd_h=client.write_register(value_h)\n",
    "        \n",
    "        break\n",
    "    except:\n",
    "        pass"
   ]
  },
  {
   "cell_type": "code",
   "execution_count": null,
   "id": "ddafdec3-946f-45d9-a5d9-cc45dd77940f",
   "metadata": {},
   "outputs": [],
   "source": [
    "try:\n",
    "    client.write_coil(2, True)\n",
    "except:\n",
    "    None"
   ]
  },
  {
   "cell_type": "code",
   "execution_count": null,
   "id": "888bd89e-2c5b-4365-a9ea-087c1f9a944b",
   "metadata": {},
   "outputs": [],
   "source": [
    "client.close()"
   ]
  },
  {
   "cell_type": "code",
   "execution_count": null,
   "id": "9c5d4082-b369-44a6-bd5b-603e07c36ac9",
   "metadata": {},
   "outputs": [],
   "source": []
  },
  {
   "cell_type": "code",
   "execution_count": null,
   "id": "0dc30775-f8df-47b4-9cfe-736c1d047ade",
   "metadata": {},
   "outputs": [],
   "source": []
  },
  {
   "cell_type": "code",
   "execution_count": null,
   "id": "d2fa67f3-1c4f-4810-9d30-7d58348ce0ae",
   "metadata": {},
   "outputs": [],
   "source": []
  },
  {
   "cell_type": "code",
   "execution_count": 14,
   "id": "49ee5b08-ea97-4779-888c-691b1f603f42",
   "metadata": {},
   "outputs": [
    {
     "name": "stderr",
     "output_type": "stream",
     "text": [
      "Connection to (192.168.0.113, 502) failed: timed out\n"
     ]
    },
    {
     "ename": "ConnectionException",
     "evalue": "Modbus Error: [Connection] Failed to connect[ModbusTcpClient 192.168.0.113:502]",
     "output_type": "error",
     "traceback": [
      "\u001b[0;31m---------------------------------------------------------------------------\u001b[0m",
      "\u001b[0;31mConnectionException\u001b[0m                       Traceback (most recent call last)",
      "Cell \u001b[0;32mIn[14], line 1\u001b[0m\n\u001b[0;32m----> 1\u001b[0m rd\u001b[38;5;241m=\u001b[39m\u001b[43mclient\u001b[49m\u001b[38;5;241;43m.\u001b[39;49m\u001b[43mread_holding_registers\u001b[49m\u001b[43m(\u001b[49m\u001b[38;5;241;43m0\u001b[39;49m\u001b[43m)\u001b[49m\n\u001b[1;32m      2\u001b[0m tc_temp\u001b[38;5;241m=\u001b[39m\u001b[38;5;28mfloat\u001b[39m(rd\u001b[38;5;241m.\u001b[39mregisters)\n",
      "File \u001b[0;32m~/.local/lib/python3.10/site-packages/pymodbus/client/mixin.py:107\u001b[0m, in \u001b[0;36mModbusClientMixin.read_holding_registers\u001b[0;34m(self, address, count, slave, **kwargs)\u001b[0m\n\u001b[1;32m     96\u001b[0m \u001b[38;5;28;01mdef\u001b[39;00m \u001b[38;5;21mread_holding_registers\u001b[39m(\n\u001b[1;32m     97\u001b[0m     \u001b[38;5;28mself\u001b[39m, address: \u001b[38;5;28mint\u001b[39m, count: \u001b[38;5;28mint\u001b[39m \u001b[38;5;241m=\u001b[39m \u001b[38;5;241m1\u001b[39m, slave: \u001b[38;5;28mint\u001b[39m \u001b[38;5;241m=\u001b[39m \u001b[38;5;241m0\u001b[39m, \u001b[38;5;241m*\u001b[39m\u001b[38;5;241m*\u001b[39mkwargs: Any\n\u001b[1;32m     98\u001b[0m ) \u001b[38;5;241m-\u001b[39m\u001b[38;5;241m>\u001b[39m T:\n\u001b[1;32m     99\u001b[0m \u001b[38;5;250m    \u001b[39m\u001b[38;5;124;03m\"\"\"Read holding registers (code 0x03).\u001b[39;00m\n\u001b[1;32m    100\u001b[0m \n\u001b[1;32m    101\u001b[0m \u001b[38;5;124;03m    :param address: Start address to read from\u001b[39;00m\n\u001b[0;32m   (...)\u001b[0m\n\u001b[1;32m    105\u001b[0m \u001b[38;5;124;03m    :raises ModbusException:\u001b[39;00m\n\u001b[1;32m    106\u001b[0m \u001b[38;5;124;03m    \"\"\"\u001b[39;00m\n\u001b[0;32m--> 107\u001b[0m     \u001b[38;5;28;01mreturn\u001b[39;00m \u001b[38;5;28;43mself\u001b[39;49m\u001b[38;5;241;43m.\u001b[39;49m\u001b[43mexecute\u001b[49m\u001b[43m(\u001b[49m\n\u001b[1;32m    108\u001b[0m \u001b[43m        \u001b[49m\u001b[43mpdu_reg_read\u001b[49m\u001b[38;5;241;43m.\u001b[39;49m\u001b[43mReadHoldingRegistersRequest\u001b[49m\u001b[43m(\u001b[49m\u001b[43maddress\u001b[49m\u001b[43m,\u001b[49m\u001b[43m \u001b[49m\u001b[43mcount\u001b[49m\u001b[43m,\u001b[49m\u001b[43m \u001b[49m\u001b[43mslave\u001b[49m\u001b[43m,\u001b[49m\u001b[43m \u001b[49m\u001b[38;5;241;43m*\u001b[39;49m\u001b[38;5;241;43m*\u001b[39;49m\u001b[43mkwargs\u001b[49m\u001b[43m)\u001b[49m\n\u001b[1;32m    109\u001b[0m \u001b[43m    \u001b[49m\u001b[43m)\u001b[49m\n",
      "File \u001b[0;32m~/.local/lib/python3.10/site-packages/pymodbus/client/base.py:391\u001b[0m, in \u001b[0;36mModbusBaseSyncClient.execute\u001b[0;34m(self, request)\u001b[0m\n\u001b[1;32m    384\u001b[0m \u001b[38;5;250m\u001b[39m\u001b[38;5;124;03m\"\"\"Execute request and get response (call **sync/async**).\u001b[39;00m\n\u001b[1;32m    385\u001b[0m \n\u001b[1;32m    386\u001b[0m \u001b[38;5;124;03m:param request: The request to process\u001b[39;00m\n\u001b[1;32m    387\u001b[0m \u001b[38;5;124;03m:returns: The result of the request execution\u001b[39;00m\n\u001b[1;32m    388\u001b[0m \u001b[38;5;124;03m:raises ConnectionException: Check exception text.\u001b[39;00m\n\u001b[1;32m    389\u001b[0m \u001b[38;5;124;03m\"\"\"\u001b[39;00m\n\u001b[1;32m    390\u001b[0m \u001b[38;5;28;01mif\u001b[39;00m \u001b[38;5;129;01mnot\u001b[39;00m \u001b[38;5;28mself\u001b[39m\u001b[38;5;241m.\u001b[39mconnect():\n\u001b[0;32m--> 391\u001b[0m     \u001b[38;5;28;01mraise\u001b[39;00m ConnectionException(\u001b[38;5;124mf\u001b[39m\u001b[38;5;124m\"\u001b[39m\u001b[38;5;124mFailed to connect[\u001b[39m\u001b[38;5;132;01m{\u001b[39;00m\u001b[38;5;28mself\u001b[39m\u001b[38;5;132;01m!s}\u001b[39;00m\u001b[38;5;124m]\u001b[39m\u001b[38;5;124m\"\u001b[39m)\n\u001b[1;32m    392\u001b[0m \u001b[38;5;28;01mreturn\u001b[39;00m \u001b[38;5;28mself\u001b[39m\u001b[38;5;241m.\u001b[39mtransaction\u001b[38;5;241m.\u001b[39mexecute(request)\n",
      "\u001b[0;31mConnectionException\u001b[0m: Modbus Error: [Connection] Failed to connect[ModbusTcpClient 192.168.0.113:502]"
     ]
    }
   ],
   "source": [
    "rd=client.read_holding_registers(0)\n",
    "tc_temp=float(rd.registers)"
   ]
  },
  {
   "cell_type": "code",
   "execution_count": null,
   "id": "1aff3eb5-6691-4347-b5bd-76ed9395e173",
   "metadata": {},
   "outputs": [],
   "source": []
  }
 ],
 "metadata": {
  "kernelspec": {
   "display_name": "Python 3 (ipykernel)",
   "language": "python",
   "name": "python3"
  },
  "language_info": {
   "codemirror_mode": {
    "name": "ipython",
    "version": 3
   },
   "file_extension": ".py",
   "mimetype": "text/x-python",
   "name": "python",
   "nbconvert_exporter": "python",
   "pygments_lexer": "ipython3",
   "version": "3.10.12"
  }
 },
 "nbformat": 4,
 "nbformat_minor": 5
}
