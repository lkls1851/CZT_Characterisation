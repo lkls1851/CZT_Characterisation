{
 "cells": [
  {
   "cell_type": "code",
   "execution_count": 5,
   "id": "1efd8537-3fab-46d6-89c8-98f855804022",
   "metadata": {},
   "outputs": [
    {
     "name": "stderr",
     "output_type": "stream",
     "text": [
      "/home/susmit/.local/lib/python3.10/site-packages/pydantic/_internal/_config.py:321: UserWarning: Valid config keys have changed in V2:\n",
      "* 'underscore_attrs_are_private' has been removed\n",
      "  warnings.warn(message, UserWarning)\n",
      "/home/susmit/.local/lib/python3.10/site-packages/matplotlib/projections/__init__.py:63: UserWarning: Unable to import Axes3D. This may be due to multiple versions of Matplotlib being installed (e.g. as a system package and as a pip package). As a result, the 3D projection is not available.\n",
      "  warnings.warn(\"Unable to import Axes3D. This may be due to multiple versions of \"\n"
     ]
    }
   ],
   "source": [
    "import http.client as httplib\n",
    "from pymodbus.client import ModbusTcpClient\n",
    "import serial\n",
    "from pynq import PL, Overlay\n",
    "from pynq import allocate\n",
    "import new_det_data_acquisition_common as common\n",
    "import pandas as pd\n",
    "import numpy as np\n",
    "import matplotlib.pyplot as plt\n",
    "import seaborn as sns\n",
    "import time\n",
    "import os\n",
    "%matplotlib inline\n",
    "import socket\n",
    "from pymodbus.constants import Endian\n",
    "from pymodbus.payload import BinaryPayloadDecoder"
   ]
  },
  {
   "cell_type": "code",
   "execution_count": 10,
   "id": "b6c279a5-679f-4dfb-9a65-b29a0acd364c",
   "metadata": {},
   "outputs": [],
   "source": [
    "ip = '192.168.0.113'\n",
    "port = 502\n",
    "\n",
    "register_address_map = {\"TEMP_PV\": 0,\n",
    "                        \"RH_PV\": 2,\n",
    "                        \"RH_SV_Read_Only\": 3,\n",
    "                        \"Program_Status\": 4,\n",
    "                        \"TEMP_SV\": 7,\n",
    "                        \"RH_SV_Read_Write\": 16\n",
    "                        } \n",
    "coil_address_map = {\"Profile_Run\": 0,\n",
    "                    \"Lamp_Command\": 1,\n",
    "                    \"Manual_Run\" : 2,\n",
    "                    \"Batch_Start_Flag\": 3\n",
    "                   }"
   ]
  },
  {
   "cell_type": "code",
   "execution_count": 11,
   "id": "6ba33ada-f8d7-4359-83d3-d9541465eda8",
   "metadata": {},
   "outputs": [
    {
     "name": "stderr",
     "output_type": "stream",
     "text": [
      "Connection to (192.168.0.113, 502) failed: timed out\n"
     ]
    }
   ],
   "source": [
    "client = ModbusTcpClient(host=ip, port=port)\n",
    "connection = client.connect()"
   ]
  },
  {
   "cell_type": "code",
   "execution_count": 13,
   "id": "a7c3e771-7cce-4ccc-a356-76892ae26464",
   "metadata": {},
   "outputs": [
    {
     "name": "stderr",
     "output_type": "stream",
     "text": [
      "Connection to (192.168.0.113, 502) failed: timed out\n"
     ]
    }
   ],
   "source": [
    "while True:\n",
    "    try:\n",
    "        for key, value in coil_address_map.items():\n",
    "            rd = client.read_coils(value)\n",
    "            print()\n",
    "            print(rd)\n",
    "            print(f\"{key: <10}: {rd.bits}\")\n",
    "        break\n",
    "    except Exception as e:\n",
    "        break"
   ]
  },
  {
   "cell_type": "code",
   "execution_count": null,
   "id": "cc4919a3-fbd7-4441-8939-9de11f38bc98",
   "metadata": {},
   "outputs": [],
   "source": [
    "while True:\n",
    "    try:\n",
    "        rq = client.write_register(16, 50)       # RH_SV_Read_Write = 70 %\n",
    "        rd = client.read_holding_registers(value)\n",
    "        print(rd)\n",
    "        break\n",
    "    except:\n",
    "        break"
   ]
  },
  {
   "cell_type": "code",
   "execution_count": null,
   "id": "194e842d-545c-4bb1-8b7c-bdf0d46b782b",
   "metadata": {},
   "outputs": [],
   "source": [
    "print(\"\\nReading holding registers:\")\n",
    "while True:\n",
    "    try:\n",
    "        for key, value in register_address_map.items():\n",
    "            rd = client.read_holding_registers(value)\n",
    "            print()\n",
    "            print(rd)\n",
    "            print(f\"{key: <10}: {rd.registers}\")\n",
    "        break\n",
    "    except:\n",
    "        break"
   ]
  },
  {
   "cell_type": "code",
   "execution_count": 1,
   "id": "fc649282-fd64-435f-8a99-3d69999a5e31",
   "metadata": {},
   "outputs": [
    {
     "name": "stdout",
     "output_type": "stream",
     "text": [
      "\n",
      "Writing to set value holding registers:\n",
      "\n"
     ]
    },
    {
     "name": "stdin",
     "output_type": "stream",
     "text": [
      "Write TEMP_SV in C 10\n",
      "Write RH_SV 50\n"
     ]
    },
    {
     "ename": "KeyboardInterrupt",
     "evalue": "",
     "output_type": "error",
     "traceback": [
      "\u001b[0;31m---------------------------------------------------------------------------\u001b[0m",
      "\u001b[0;31mNameError\u001b[0m                                 Traceback (most recent call last)",
      "Cell \u001b[0;32mIn[1], line 9\u001b[0m\n\u001b[1;32m      8\u001b[0m key \u001b[38;5;241m=\u001b[39m \u001b[38;5;124m\"\u001b[39m\u001b[38;5;124mTEMP_SV\u001b[39m\u001b[38;5;124m\"\u001b[39m\n\u001b[0;32m----> 9\u001b[0m value \u001b[38;5;241m=\u001b[39m \u001b[43mregister_address_map\u001b[49m[key]\n\u001b[1;32m     10\u001b[0m rq \u001b[38;5;241m=\u001b[39m client\u001b[38;5;241m.\u001b[39mwrite_register(value, tsv\u001b[38;5;241m*\u001b[39m\u001b[38;5;241m10\u001b[39m)       \u001b[38;5;66;03m# TEMP_SV = 20.0 deg C\u001b[39;00m\n",
      "\u001b[0;31mNameError\u001b[0m: name 'register_address_map' is not defined",
      "\nDuring handling of the above exception, another exception occurred:\n",
      "\u001b[0;31mKeyboardInterrupt\u001b[0m                         Traceback (most recent call last)",
      "Cell \u001b[0;32mIn[1], line 9\u001b[0m\n\u001b[1;32m      7\u001b[0m \u001b[38;5;28;01mtry\u001b[39;00m:\n\u001b[1;32m      8\u001b[0m     key \u001b[38;5;241m=\u001b[39m \u001b[38;5;124m\"\u001b[39m\u001b[38;5;124mTEMP_SV\u001b[39m\u001b[38;5;124m\"\u001b[39m\n\u001b[0;32m----> 9\u001b[0m     value \u001b[38;5;241m=\u001b[39m \u001b[43mregister_address_map\u001b[49m[key]\n\u001b[1;32m     10\u001b[0m     rq \u001b[38;5;241m=\u001b[39m client\u001b[38;5;241m.\u001b[39mwrite_register(value, tsv\u001b[38;5;241m*\u001b[39m\u001b[38;5;241m10\u001b[39m)       \u001b[38;5;66;03m# TEMP_SV = 20.0 deg C\u001b[39;00m\n\u001b[1;32m     11\u001b[0m     rd \u001b[38;5;241m=\u001b[39m client\u001b[38;5;241m.\u001b[39mread_holding_registers(value)\n",
      "\u001b[0;31mKeyboardInterrupt\u001b[0m: "
     ]
    }
   ],
   "source": [
    "print(\"\\nWriting to set value holding registers:\\n\")\n",
    "\n",
    "tsv=int(input(\"Write TEMP_SV in C\"))\n",
    "rhsv=int(input(\"Write RH_SV\"))\n",
    "\n",
    "while True:\n",
    "    try:\n",
    "        key = \"TEMP_SV\"\n",
    "        value = register_address_map[key]\n",
    "        rq = client.write_register(value, tsv*10)       # TEMP_SV = 20.0 deg C\n",
    "        rd = client.read_holding_registers(value)\n",
    "        print(rd)\n",
    "        print(f\"{key: <10}: {rd.registers}\")\n",
    "        rhsv_binary = format(rhsv, '032b')\n",
    "\n",
    "        rhsv_high_binary = rhsv_binary[:16]\n",
    "        rhsv_low_binary = rhsv_binary[16:]\n",
    "        rhsv_high = int(rhsv_high_binary, 2)\n",
    "        rhsv_low = int(rhsv_low_binary, 2)\n",
    "        key = \"RH_SV_Read_Write\"\n",
    "        value_l=register_address_map[key]\n",
    "        value_h=value_l+1\n",
    "        \n",
    "        rq_l=client.write_register(value_l, rhsv_low)\n",
    "        rd_l=client.read_holding_registers(value_l)\n",
    "        rq_h=client.write_register(value_h, rhsv_high)\n",
    "        rd_h=client.write_register(value_h)\n",
    "        \n",
    "        break\n",
    "    except:\n",
    "        pass"
   ]
  },
  {
   "cell_type": "code",
   "execution_count": 2,
   "id": "b2704548-07fa-413d-a3ac-b38d0bde6595",
   "metadata": {},
   "outputs": [],
   "source": [
    "class color:\n",
    "   PURPLE = '\\033[95m'\n",
    "   CYAN = '\\033[96m'\n",
    "   DARKCYAN = '\\033[36m'\n",
    "   BLUE = '\\033[94m'\n",
    "   GREEN = '\\033[92m'\n",
    "   YELLOW = '\\033[93m' \n",
    "   RED = '\\033[91m'\n",
    "   BOLD = '\\033[1m'\n",
    "   UNDERLINE = '\\033[4m'\n",
    "   END = '\\033[0m'"
   ]
  },
  {
   "cell_type": "code",
   "execution_count": 6,
   "id": "13eaeb19-9b37-4263-81e1-97d0360d76f4",
   "metadata": {},
   "outputs": [
    {
     "name": "stderr",
     "output_type": "stream",
     "text": [
      "/home/susmit/.local/lib/python3.10/site-packages/pynq/pl_server/device.py:56: UserWarning: No devices found, is the XRT environment sourced?\n",
      "  warnings.warn(\n"
     ]
    },
    {
     "ename": "RuntimeError",
     "evalue": "No Devices Found",
     "output_type": "error",
     "traceback": [
      "\u001b[0;31m---------------------------------------------------------------------------\u001b[0m",
      "\u001b[0;31mRuntimeError\u001b[0m                              Traceback (most recent call last)",
      "Cell \u001b[0;32mIn[6], line 1\u001b[0m\n\u001b[0;32m----> 1\u001b[0m ov \u001b[38;5;241m=\u001b[39m \u001b[43mOverlay\u001b[49m\u001b[43m(\u001b[49m\u001b[38;5;124;43m\"\u001b[39;49m\u001b[38;5;124;43m./overlays/test_2det_commanding.bit\u001b[39;49m\u001b[38;5;124;43m\"\u001b[39;49m\u001b[43m)\u001b[49m\n\u001b[1;32m      2\u001b[0m \u001b[38;5;66;03m# czt = ov.AXI_CZT_AXIS_0.AXI_CZT_Controller                # Bottom slot on PYNQ board\u001b[39;00m\n\u001b[1;32m      3\u001b[0m czt \u001b[38;5;241m=\u001b[39m ov\u001b[38;5;241m.\u001b[39mAXI_CZT_AXIS_1\u001b[38;5;241m.\u001b[39mAXI_CZT_Controller      \n",
      "File \u001b[0;32m~/.local/lib/python3.10/site-packages/pynq/overlay.py:315\u001b[0m, in \u001b[0;36mOverlay.__init__\u001b[0;34m(self, bitfile_name, dtbo, download, ignore_version, device, gen_cache)\u001b[0m\n\u001b[1;32m    286\u001b[0m \u001b[38;5;28;01mdef\u001b[39;00m \u001b[38;5;21m__init__\u001b[39m(\n\u001b[1;32m    287\u001b[0m     \u001b[38;5;28mself\u001b[39m, bitfile_name, dtbo\u001b[38;5;241m=\u001b[39m\u001b[38;5;28;01mNone\u001b[39;00m, download\u001b[38;5;241m=\u001b[39m\u001b[38;5;28;01mTrue\u001b[39;00m, ignore_version\u001b[38;5;241m=\u001b[39m\u001b[38;5;28;01mFalse\u001b[39;00m, device\u001b[38;5;241m=\u001b[39m\u001b[38;5;28;01mNone\u001b[39;00m, gen_cache\u001b[38;5;241m=\u001b[39m\u001b[38;5;28;01mFalse\u001b[39;00m\n\u001b[1;32m    288\u001b[0m ):\n\u001b[1;32m    289\u001b[0m \u001b[38;5;250m    \u001b[39m\u001b[38;5;124;03m\"\"\"Return a new Overlay object.\u001b[39;00m\n\u001b[1;32m    290\u001b[0m \n\u001b[1;32m    291\u001b[0m \u001b[38;5;124;03m    An overlay instantiates a bitstream object as a member initially.\u001b[39;00m\n\u001b[0;32m   (...)\u001b[0m\n\u001b[1;32m    313\u001b[0m \n\u001b[1;32m    314\u001b[0m \u001b[38;5;124;03m    \"\"\"\u001b[39;00m\n\u001b[0;32m--> 315\u001b[0m     \u001b[38;5;28;43msuper\u001b[39;49m\u001b[43m(\u001b[49m\u001b[43m)\u001b[49m\u001b[38;5;241;43m.\u001b[39;49m\u001b[38;5;21;43m__init__\u001b[39;49m\u001b[43m(\u001b[49m\u001b[43mbitfile_name\u001b[49m\u001b[43m,\u001b[49m\u001b[43m \u001b[49m\u001b[43mdtbo\u001b[49m\u001b[43m,\u001b[49m\u001b[43m \u001b[49m\u001b[43mpartial\u001b[49m\u001b[38;5;241;43m=\u001b[39;49m\u001b[38;5;28;43;01mFalse\u001b[39;49;00m\u001b[43m,\u001b[49m\u001b[43m \u001b[49m\u001b[43mdevice\u001b[49m\u001b[38;5;241;43m=\u001b[39;49m\u001b[43mdevice\u001b[49m\u001b[43m)\u001b[49m\n\u001b[1;32m    317\u001b[0m     \u001b[38;5;28mself\u001b[39m\u001b[38;5;241m.\u001b[39m_register_drivers()\n\u001b[1;32m    319\u001b[0m     \u001b[38;5;28mself\u001b[39m\u001b[38;5;241m.\u001b[39mdevice\u001b[38;5;241m.\u001b[39mset_bitfile_name(\u001b[38;5;28mself\u001b[39m\u001b[38;5;241m.\u001b[39mbitfile_name)\n",
      "File \u001b[0;32m~/.local/lib/python3.10/site-packages/pynq/bitstream.py:88\u001b[0m, in \u001b[0;36mBitstream.__init__\u001b[0;34m(self, bitfile_name, dtbo, partial, device)\u001b[0m\n\u001b[1;32m     85\u001b[0m \u001b[38;5;28;01mif\u001b[39;00m device \u001b[38;5;129;01mis\u001b[39;00m \u001b[38;5;28;01mNone\u001b[39;00m:\n\u001b[1;32m     86\u001b[0m     \u001b[38;5;28;01mfrom\u001b[39;00m \u001b[38;5;21;01m.\u001b[39;00m\u001b[38;5;21;01mpl_server\u001b[39;00m\u001b[38;5;21;01m.\u001b[39;00m\u001b[38;5;21;01mdevice\u001b[39;00m \u001b[38;5;28;01mimport\u001b[39;00m Device\n\u001b[0;32m---> 88\u001b[0m     device \u001b[38;5;241m=\u001b[39m \u001b[43mDevice\u001b[49m\u001b[38;5;241;43m.\u001b[39;49m\u001b[43mactive_device\u001b[49m\n\u001b[1;32m     89\u001b[0m \u001b[38;5;28mself\u001b[39m\u001b[38;5;241m.\u001b[39mdevice \u001b[38;5;241m=\u001b[39m device\n\u001b[1;32m     91\u001b[0m \u001b[38;5;66;03m# self.xsa = None\u001b[39;00m\n\u001b[1;32m     92\u001b[0m \u001b[38;5;66;03m# if bitfile_name.endswith(\".xsa\"):\u001b[39;00m\n\u001b[1;32m     93\u001b[0m \u001b[38;5;66;03m#    self.xsa_filepath = bitfile_name\u001b[39;00m\n\u001b[1;32m     94\u001b[0m \u001b[38;5;66;03m#    self.xsa = pynqutils.build_utils.XsaParser(bitfile_name)\u001b[39;00m\n\u001b[1;32m     95\u001b[0m \u001b[38;5;66;03m#    bitfile_name = self.xsa.bitstreamPaths[0]\u001b[39;00m\n\u001b[1;32m     96\u001b[0m \u001b[38;5;66;03m#    self.xsa.load_bdc_metadata()\u001b[39;00m\n",
      "File \u001b[0;32m~/.local/lib/python3.10/site-packages/pynq/pl_server/device.py:71\u001b[0m, in \u001b[0;36mDeviceMeta.active_device\u001b[0;34m(cls)\u001b[0m\n\u001b[1;32m     69\u001b[0m \u001b[38;5;28;01mif\u001b[39;00m \u001b[38;5;129;01mnot\u001b[39;00m \u001b[38;5;28mhasattr\u001b[39m(\u001b[38;5;28mcls\u001b[39m, \u001b[38;5;124m\"\u001b[39m\u001b[38;5;124m_active_device\u001b[39m\u001b[38;5;124m\"\u001b[39m):\n\u001b[1;32m     70\u001b[0m     \u001b[38;5;28;01mif\u001b[39;00m \u001b[38;5;28mlen\u001b[39m(\u001b[38;5;28mcls\u001b[39m\u001b[38;5;241m.\u001b[39mdevices) \u001b[38;5;241m==\u001b[39m \u001b[38;5;241m0\u001b[39m:\n\u001b[0;32m---> 71\u001b[0m         \u001b[38;5;28;01mraise\u001b[39;00m \u001b[38;5;167;01mRuntimeError\u001b[39;00m(\u001b[38;5;124m\"\u001b[39m\u001b[38;5;124mNo Devices Found\u001b[39m\u001b[38;5;124m\"\u001b[39m)\n\u001b[1;32m     72\u001b[0m     \u001b[38;5;28mcls\u001b[39m\u001b[38;5;241m.\u001b[39m_active_device \u001b[38;5;241m=\u001b[39m \u001b[38;5;28mcls\u001b[39m\u001b[38;5;241m.\u001b[39mdevices[\u001b[38;5;241m0\u001b[39m]\n\u001b[1;32m     73\u001b[0m \u001b[38;5;28;01mreturn\u001b[39;00m \u001b[38;5;28mcls\u001b[39m\u001b[38;5;241m.\u001b[39m_active_device\n",
      "\u001b[0;31mRuntimeError\u001b[0m: No Devices Found"
     ]
    }
   ],
   "source": [
    "ov = Overlay(\"./overlays/test_2det_commanding.bit\")\n",
    "# czt = ov.AXI_CZT_AXIS_0.AXI_CZT_Controller                # Bottom slot on PYNQ board\n",
    "czt = ov.AXI_CZT_AXIS_1.AXI_CZT_Controller      "
   ]
  },
  {
   "cell_type": "code",
   "execution_count": 7,
   "id": "5d9397e8-e624-4d5e-a40e-4bb5afcbfb68",
   "metadata": {},
   "outputs": [
    {
     "ename": "NameError",
     "evalue": "name 'czt' is not defined",
     "output_type": "error",
     "traceback": [
      "\u001b[0;31m---------------------------------------------------------------------------\u001b[0m",
      "\u001b[0;31mNameError\u001b[0m                                 Traceback (most recent call last)",
      "Cell \u001b[0;32mIn[7], line 1\u001b[0m\n\u001b[0;32m----> 1\u001b[0m det\u001b[38;5;241m=\u001b[39m\u001b[43mczt\u001b[49m\u001b[38;5;241m.\u001b[39mread_serial\n",
      "\u001b[0;31mNameError\u001b[0m: name 'czt' is not defined"
     ]
    }
   ],
   "source": [
    "det=czt.read_serial"
   ]
  },
  {
   "cell_type": "code",
   "execution_count": null,
   "id": "9b50f793-1da8-4264-9756-d77275f9dd3b",
   "metadata": {},
   "outputs": [],
   "source": []
  }
 ],
 "metadata": {
  "kernelspec": {
   "display_name": "Python 3 (ipykernel)",
   "language": "python",
   "name": "python3"
  },
  "language_info": {
   "codemirror_mode": {
    "name": "ipython",
    "version": 3
   },
   "file_extension": ".py",
   "mimetype": "text/x-python",
   "name": "python",
   "nbconvert_exporter": "python",
   "pygments_lexer": "ipython3",
   "version": "3.10.12"
  }
 },
 "nbformat": 4,
 "nbformat_minor": 5
}
